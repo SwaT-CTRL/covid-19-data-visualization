{
 "cells": [
  {
   "cell_type": "code",
   "execution_count": null,
   "metadata": {},
   "outputs": [],
   "source": [
    "# Importing Libraries\n",
    "import pandas as pd\n",
    "import matplotlib.pyplot as plt"
   ]
  },
  {
   "cell_type": "code",
   "execution_count": null,
   "metadata": {},
   "outputs": [],
   "source": [
    "import plotly.offline as py\n",
    "py.init_notebook_mode(connected=True)\n",
    "import plotly.graph_objs as go\n",
    "import plotly.express as px"
   ]
  },
  {
   "cell_type": "code",
   "execution_count": null,
   "metadata": {},
   "outputs": [],
   "source": [
    "#DataSet 1\n",
    "df1 = pd.read_csv(\"covid.csv\")\n",
    "df1.head()"
   ]
  },
  {
   "cell_type": "code",
   "execution_count": null,
   "metadata": {},
   "outputs": [],
   "source": [
    "df2 = pd.read_csv(\"covid_grouped.csv\")\n",
    "df2.head()"
   ]
  },
  {
   "cell_type": "code",
   "execution_count": null,
   "metadata": {},
   "outputs": [],
   "source": [
    "df1.columns"
   ]
  },
  {
   "cell_type": "code",
   "execution_count": null,
   "metadata": {},
   "outputs": [],
   "source": [
    "# Drop null cloumns\n",
    "df1.drop(['NewCases', 'NewDeaths', 'NewRecovered'], axis=1, inplace=True)\n",
    "df1.head()"
   ]
  },
  {
   "cell_type": "code",
   "execution_count": null,
   "metadata": {},
   "outputs": [],
   "source": [
    "# Create a clolorful table\n",
    "from plotly.figure_factory import create_table\n",
    "table = create_table(df1.head(10), colorscale = \"blues\")\n",
    "py.iplot(table)"
   ]
  },
  {
   "cell_type": "code",
   "execution_count": null,
   "metadata": {},
   "outputs": [],
   "source": [
    "# Some bar graphes\n",
    "px.bar(df1.head(10), x=\"Country/Region\", y=\"TotalCases\", color=\"Country/Region\", height=500, \n",
    "       hover_data=[\"Country/Region\", \"Continent\"])"
   ]
  },
  {
   "cell_type": "code",
   "execution_count": null,
   "metadata": {},
   "outputs": [],
   "source": [
    "px.bar(df1.head(10), x=\"Country/Region\", y=\"TotalDeaths\", color=\"Country/Region\", height=500, \n",
    "       hover_data=[\"Country/Region\", \"Continent\"])"
   ]
  },
  {
   "cell_type": "code",
   "execution_count": null,
   "metadata": {},
   "outputs": [],
   "source": [
    "px.bar(df1.head(10), x=\"Country/Region\", y=\"TotalRecovered\", color=\"TotalRecovered\", height=500, \n",
    "       hover_data=[\"Country/Region\", \"Continent\"])"
   ]
  },
  {
   "cell_type": "code",
   "execution_count": null,
   "metadata": {},
   "outputs": [],
   "source": [
    "px.bar(df1.head(10), x=\"TotalTests\", y=\"Country/Region\", color=\"TotalTests\", height=500, \n",
    "       hover_data=[\"Country/Region\", \"Continent\"])"
   ]
  },
  {
   "cell_type": "code",
   "execution_count": null,
   "metadata": {},
   "outputs": [],
   "source": [
    "px.bar(df1.head(10), x=\"TotalTests\", y=\"Continent\", color=\"TotalTests\", height=500, \n",
    "       hover_data=[\"Country/Region\", \"Continent\"])"
   ]
  },
  {
   "cell_type": "code",
   "execution_count": null,
   "metadata": {},
   "outputs": [],
   "source": [
    "# Some Bubble Scatter graph\n",
    "px.scatter(df1.head(50), x=\"Continent\", y=\"TotalCases\", hover_data=[\"Country/Region\", \"Continent\"], color=\"TotalCases\", \n",
    "           size=\"TotalCases\", size_max=80)\n"
   ]
  },
  {
   "cell_type": "code",
   "execution_count": null,
   "metadata": {},
   "outputs": [],
   "source": [
    "px.scatter(df1.head(50), x=\"Continent\", y=\"TotalCases\", hover_data=[\"Country/Region\", \"Continent\"], color=\"TotalCases\", \n",
    "           size=\"TotalCases\", size_max=80, log_y=True)"
   ]
  },
  {
   "cell_type": "code",
   "execution_count": null,
   "metadata": {},
   "outputs": [],
   "source": [
    "px.scatter(df1.head(50), x=\"Continent\", y=\"TotalTests\", hover_data=[\"Country/Region\", \"Continent\"], color=\"TotalTests\", \n",
    "           size=\"TotalTests\", size_max=80)"
   ]
  },
  {
   "cell_type": "code",
   "execution_count": null,
   "metadata": {},
   "outputs": [],
   "source": [
    "px.scatter(df1.head(50), x=\"Continent\", y=\"TotalTests\", hover_data=[\"Country/Region\", \"Continent\"], color=\"TotalTests\", \n",
    "           size=\"TotalTests\", size_max=80, log_y=True)"
   ]
  },
  {
   "cell_type": "code",
   "execution_count": null,
   "metadata": {},
   "outputs": [],
   "source": [
    "px.scatter(df1.head(50), x=\"Continent\", y=\"TotalDeaths\", hover_data=[\"Country/Region\", \"Continent\"], color=\"TotalDeaths\", \n",
    "           size=\"TotalDeaths\", size_max=80, log_y=True)"
   ]
  },
  {
   "cell_type": "code",
   "execution_count": null,
   "metadata": {},
   "outputs": [],
   "source": [
    "px.scatter(df1.head(100), x=\"Country/Region\", y=\"TotalCases\", color=\"TotalCases\", size=\"TotalCases\", size_max=80, height=500, \n",
    "       hover_data=[\"Country/Region\", \"Continent\"])"
   ]
  },
  {
   "cell_type": "code",
   "execution_count": null,
   "metadata": {},
   "outputs": [],
   "source": [
    "px.scatter(df1.head(100), x=\"Country/Region\", y=\"TotalCases\", color=\"Country/Region\", size=\"TotalCases\", size_max=80, height=500, \n",
    "       hover_data=[\"Country/Region\", \"Continent\"], log_y=True)"
   ]
  },
  {
   "cell_type": "code",
   "execution_count": null,
   "metadata": {},
   "outputs": [],
   "source": [
    "px.scatter(df1.head(10), x=\"Country/Region\", y=\"TotalDeaths\", color=\"Country/Region\", size=\"TotalDeaths\", size_max=80,\n",
    "           height=500, hover_data=[\"Country/Region\", \"Continent\"])"
   ]
  },
  {
   "cell_type": "code",
   "execution_count": null,
   "metadata": {},
   "outputs": [],
   "source": [
    "px.scatter(df1.head(30), x=\"Country/Region\", y=\"Tests/1M pop\", color=\"Country/Region\", size=\"Tests/1M pop\", size_max=80,\n",
    "           height=500, hover_data=[\"Country/Region\", \"Continent\"])"
   ]
  },
  {
   "cell_type": "code",
   "execution_count": null,
   "metadata": {},
   "outputs": [],
   "source": [
    "px.scatter(df1.head(30), x=\"Country/Region\", y=\"Tests/1M pop\", color=\"Tests/1M pop\", size=\"Tests/1M pop\", size_max=80,\n",
    "           height=500, hover_data=[\"Country/Region\", \"Continent\"])"
   ]
  },
  {
   "cell_type": "code",
   "execution_count": null,
   "metadata": {},
   "outputs": [],
   "source": [
    "px.scatter(df1.head(30), x=\"TotalCases\", y=\"TotalDeaths\", color=\"TotalDeaths\", size=\"TotalDeaths\", size_max=80,\n",
    "           height=500, hover_data=[\"Country/Region\", \"Continent\"])"
   ]
  },
  {
   "cell_type": "code",
   "execution_count": null,
   "metadata": {},
   "outputs": [],
   "source": [
    "px.scatter(df1.head(30), x=\"TotalCases\", y=\"TotalDeaths\", color=\"TotalDeaths\", size=\"TotalDeaths\", size_max=80,\n",
    "           height=500, hover_data=[\"Country/Region\", \"Continent\"], log_x=True, log_y=True)"
   ]
  },
  {
   "cell_type": "code",
   "execution_count": null,
   "metadata": {},
   "outputs": [],
   "source": [
    "px.scatter(df1.head(30), x=\"TotalTests\", y=\"TotalCases\", color=\"TotalTests\", size=\"TotalTests\", size_max=80,\n",
    "           height=500, hover_data=[\"Country/Region\", \"Continent\"], log_x=True, log_y=True)"
   ]
  },
  {
   "cell_type": "code",
   "execution_count": null,
   "metadata": {},
   "outputs": [],
   "source": [
    "#DataSet 2\n",
    "df2.columns"
   ]
  },
  {
   "cell_type": "code",
   "execution_count": null,
   "metadata": {},
   "outputs": [],
   "source": [
    "df2.head()"
   ]
  },
  {
   "cell_type": "code",
   "execution_count": null,
   "metadata": {},
   "outputs": [],
   "source": [
    "df2.tail()"
   ]
  },
  {
   "cell_type": "code",
   "execution_count": null,
   "metadata": {},
   "outputs": [],
   "source": [
    "px.bar(df2, x=\"Date\", y=\"Confirmed\", color=\"Confirmed\", hover_data=[\"Confirmed\", \"Date\", \"Country/Region\"], height=500)"
   ]
  },
  {
   "cell_type": "code",
   "execution_count": null,
   "metadata": {},
   "outputs": [],
   "source": [
    "px.bar(df2, x=\"Date\", y=\"Confirmed\", color=\"Confirmed\", hover_data=[\"Confirmed\", \"Date\", \"Country/Region\"], height=500,\n",
    "       log_y=True)"
   ]
  },
  {
   "cell_type": "code",
   "execution_count": null,
   "metadata": {},
   "outputs": [],
   "source": [
    "px.bar(df2, x=\"Date\", y=\"Deaths\", color=\"Deaths\", hover_data=[\"Confirmed\", \"Date\", \"Country/Region\"], height=500, log_y=False)"
   ]
  },
  {
   "cell_type": "code",
   "execution_count": null,
   "metadata": {},
   "outputs": [],
   "source": [
    "df_US = df2.loc[df2[\"Country/Region\"] == \"US\"]"
   ]
  },
  {
   "cell_type": "code",
   "execution_count": null,
   "metadata": {},
   "outputs": [],
   "source": [
    "px.bar(df_US, x=\"Date\", y=\"Confirmed\", color=\"Confirmed\", height=500)"
   ]
  },
  {
   "cell_type": "code",
   "execution_count": null,
   "metadata": {},
   "outputs": [],
   "source": [
    "px.bar(df_US, x=\"Date\", y=\"Recovered\", color=\"Recovered\", height=500)"
   ]
  },
  {
   "cell_type": "code",
   "execution_count": null,
   "metadata": {},
   "outputs": [],
   "source": [
    "px.line(df_US, x=\"Date\", y=\"Recovered\", height=500)"
   ]
  },
  {
   "cell_type": "code",
   "execution_count": null,
   "metadata": {},
   "outputs": [],
   "source": [
    "px.line(df_US, x=\"Date\", y=\"Deaths\", height=500)"
   ]
  },
  {
   "cell_type": "code",
   "execution_count": null,
   "metadata": {},
   "outputs": [],
   "source": [
    "px.line(df_US, x=\"Date\", y=\"Confirmed\", height=500)"
   ]
  },
  {
   "cell_type": "code",
   "execution_count": null,
   "metadata": {},
   "outputs": [],
   "source": [
    "px.line(df_US, x=\"Date\", y=\"New cases\", height=500)"
   ]
  },
  {
   "cell_type": "code",
   "execution_count": null,
   "metadata": {},
   "outputs": [],
   "source": [
    "px.bar(df_US, x=\"Date\", y=\"New cases\", height=500)"
   ]
  },
  {
   "cell_type": "code",
   "execution_count": null,
   "metadata": {},
   "outputs": [],
   "source": [
    "df_india = df2.loc[df2[\"Country/Region\"] == \"India\"]"
   ]
  },
  {
   "cell_type": "code",
   "execution_count": null,
   "metadata": {},
   "outputs": [],
   "source": [
    "px.bar(df_india, x=\"Date\", y=\"New cases\", height=500)"
   ]
  },
  {
   "cell_type": "code",
   "execution_count": null,
   "metadata": {},
   "outputs": [],
   "source": [
    "px.line(df_india, x=\"Date\", y=\"New cases\", height=500)"
   ]
  },
  {
   "cell_type": "code",
   "execution_count": null,
   "metadata": {},
   "outputs": [],
   "source": [
    "px.bar(df_india, x=\"Date\", y=\"Confirmed\", height=500)"
   ]
  },
  {
   "cell_type": "code",
   "execution_count": null,
   "metadata": {},
   "outputs": [],
   "source": [
    "px.bar(df_india, x=\"Date\", y=\"Deaths\", height=500)"
   ]
  },
  {
   "cell_type": "code",
   "execution_count": null,
   "metadata": {},
   "outputs": [],
   "source": [
    "px.bar(df_india, x=\"Date\", y=\"New deaths\", height=500)"
   ]
  },
  {
   "cell_type": "code",
   "execution_count": null,
   "metadata": {},
   "outputs": [],
   "source": [
    "px.bar(df_india, x=\"Date\", y=\"Recovered\", height=500)"
   ]
  },
  {
   "cell_type": "code",
   "execution_count": null,
   "metadata": {},
   "outputs": [],
   "source": [
    "px.bar(df_india, x=\"Date\", y=\"New recovered\", height=500)"
   ]
  },
  {
   "cell_type": "code",
   "execution_count": null,
   "metadata": {},
   "outputs": [],
   "source": [
    "px.scatter(df_US, x=\"Confirmed\", y=\"Deaths\", height=500)"
   ]
  },
  {
   "cell_type": "code",
   "execution_count": null,
   "metadata": {},
   "outputs": [],
   "source": [
    "px.scatter(df_india, x=\"Confirmed\", y=\"New cases\", height=500)"
   ]
  },
  {
   "cell_type": "code",
   "execution_count": null,
   "metadata": {},
   "outputs": [],
   "source": [
    "px.choropleth(df2, locations=\"iso_alpha\", color=\"Confirmed\", hover_name=\"Country/Region\", color_continuous_scale=\"Blues\",\n",
    "             animation_frame=\"Date\")"
   ]
  },
  {
   "cell_type": "code",
   "execution_count": null,
   "metadata": {},
   "outputs": [],
   "source": [
    "px.choropleth(df2, locations=\"iso_alpha\", color=\"Deaths\", hover_name=\"Country/Region\", color_continuous_scale=\"Viridis\",\n",
    "             animation_frame=\"Date\")"
   ]
  },
  {
   "cell_type": "code",
   "execution_count": null,
   "metadata": {},
   "outputs": [],
   "source": [
    "px.choropleth(df2, locations=\"iso_alpha\", color=\"Deaths\", hover_name=\"Country/Region\", color_continuous_scale=\"Viridis\",\n",
    "             animation_frame=\"Date\", projection=\"orthographic\")"
   ]
  },
  {
   "cell_type": "code",
   "execution_count": null,
   "metadata": {},
   "outputs": [],
   "source": [
    "px.choropleth(df2, locations=\"iso_alpha\", color=\"Recovered\", hover_name=\"Country/Region\", color_continuous_scale=\"RdYlGn\",\n",
    "             animation_frame=\"Date\", projection=\"natural earth\")"
   ]
  },
  {
   "cell_type": "code",
   "execution_count": null,
   "metadata": {},
   "outputs": [],
   "source": [
    "px.bar(df2, x=\"WHO Region\", y=\"Confirmed\", color=\"WHO Region\", animation_frame=\"Date\", hover_name=\"Country/Region\")"
   ]
  },
  {
   "cell_type": "code",
   "execution_count": null,
   "metadata": {},
   "outputs": [],
   "source": [
    "px.bar(df2, x=\"WHO Region\", y=\"New cases\", color=\"WHO Region\", animation_frame=\"Date\", hover_name=\"Country/Region\")"
   ]
  },
  {
   "cell_type": "code",
   "execution_count": null,
   "metadata": {},
   "outputs": [],
   "source": [
    "from wordcloud import WordCloud"
   ]
  },
  {
   "cell_type": "code",
   "execution_count": null,
   "metadata": {},
   "outputs": [],
   "source": [
    "df3 = pd.read_csv(\"covid+death.csv\")\n",
    "df3.head()"
   ]
  },
  {
   "cell_type": "code",
   "execution_count": null,
   "metadata": {},
   "outputs": [],
   "source": [
    "df3.tail()"
   ]
  },
  {
   "cell_type": "code",
   "execution_count": null,
   "metadata": {},
   "outputs": [],
   "source": [
    "df3.groupby([\"Condition\"]).count()"
   ]
  },
  {
   "cell_type": "code",
   "execution_count": null,
   "metadata": {},
   "outputs": [],
   "source": [
    "df3.groupby([\"Condition Group\"]).count()"
   ]
  },
  {
   "cell_type": "code",
   "execution_count": null,
   "metadata": {},
   "outputs": [],
   "source": [
    "sentences = df3[\"Condition\"].tolist()"
   ]
  },
  {
   "cell_type": "code",
   "execution_count": null,
   "metadata": {},
   "outputs": [],
   "source": [
    "sentences_as_a_string = ' '.join(sentences)"
   ]
  },
  {
   "cell_type": "code",
   "execution_count": null,
   "metadata": {},
   "outputs": [],
   "source": [
    "plt.figure(figsize=(14,14))\n",
    "plt.imshow(WordCloud().generate(sentences_as_a_string))"
   ]
  },
  {
   "cell_type": "code",
   "execution_count": null,
   "metadata": {},
   "outputs": [],
   "source": [
    "column2_tolist = df3[\"Condition Group\"].tolist()"
   ]
  },
  {
   "cell_type": "code",
   "execution_count": null,
   "metadata": {},
   "outputs": [],
   "source": [
    "column_to_string = ' '.join(column2_tolist)"
   ]
  },
  {
   "cell_type": "code",
   "execution_count": null,
   "metadata": {},
   "outputs": [],
   "source": [
    "plt.figure(figsize=(20,20))\n",
    "plt.imshow(WordCloud().generate(column_to_string))"
   ]
  }
 ],
 "metadata": {
  "kernelspec": {
   "display_name": "Python 3",
   "language": "python",
   "name": "python3"
  },
  "language_info": {
   "codemirror_mode": {
    "name": "ipython",
    "version": 3
   },
   "file_extension": ".py",
   "mimetype": "text/x-python",
   "name": "python",
   "nbconvert_exporter": "python",
   "pygments_lexer": "ipython3",
   "version": "3.7.6"
  }
 },
 "nbformat": 4,
 "nbformat_minor": 4
}
